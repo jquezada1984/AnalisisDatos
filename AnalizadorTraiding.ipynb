{
  "cells": [
    {
      "cell_type": "markdown",
      "metadata": {
        "id": "view-in-github",
        "colab_type": "text"
      },
      "source": [
        "<a href=\"https://colab.research.google.com/github/Ranma84/AnalisisDatos/blob/main/AnalizadorTraiding.ipynb\" target=\"_parent\"><img src=\"https://colab.research.google.com/assets/colab-badge.svg\" alt=\"Open In Colab\"/></a>"
      ]
    },
    {
      "cell_type": "code",
      "execution_count": null,
      "metadata": {
        "id": "qS6hZ7V_c_WZ"
      },
      "outputs": [],
      "source": [
        "import tensorflow as tf\n",
        "import tensorflow_datasets as tfds\n",
        "import matplotlib.pyplot as plt\n",
        "import cv2\n",
        "import numpy as np\n",
        "from tensorflow.keras.preprocessing.image import ImageDataGenerator\n",
        "from tensorflow.keras.callbacks import ModelCheckpoint\n",
        "from tensorflow.keras.callbacks import TensorBoard"
      ]
    },
    {
      "cell_type": "code",
      "execution_count": null,
      "metadata": {
        "id": "6UhgSCKjeyrn"
      },
      "outputs": [],
      "source": [
        "# Catálogo de datos de entrenamiento\n",
        "train_dir = '/content/drive/MyDrive/python/Train'\n",
        "# Directorio con datos para consultar\n",
        "val_dir = '/content/drive/MyDrive/python/Val'\n",
        "# Dimensiones de la imagen\n",
        "img_width, img_height = 1172,1172\n",
        "# Dimensión de tensor basada en imágenes para entrada de red neuronal\n",
        "# back-end Tensorflow, canales_último\n",
        "input_shape = (img_width, img_height, 3)\n",
        "# Número de épocas\n",
        "epochs = 60\n",
        "# Mini tamaño de muestra\n",
        "batch_size = 7\n",
        "# Número de imágenes para entrenamiento\n",
        "nb_train_samples = 10282\n",
        "# Número de imágenes a comprobar  \n",
        "nb_validation_samples = 5518"
      ]
    },
    {
      "cell_type": "code",
      "execution_count": null,
      "metadata": {
        "id": "d2SV3Mpce9kI"
      },
      "outputs": [],
      "source": [
        "model = tf.keras.models.Sequential([\n",
        "  tf.keras.layers.Conv2D(32, (3,3), activation='relu', input_shape=input_shape),\n",
        "  tf.keras.layers.MaxPooling2D(pool_size=(2, 2)),\n",
        "  tf.keras.layers.Conv2D(64, (3,3), activation='relu'),\n",
        "  tf.keras.layers.MaxPooling2D(pool_size=(2, 2)),\n",
        "  tf.keras.layers.Conv2D(128, (3,3), activation='relu'),\n",
        "  tf.keras.layers.MaxPooling2D(pool_size=(2, 2)),\n",
        "  \n",
        "  tf.keras.layers.Conv2D(128, (3,3), activation='relu'),\n",
        "  tf.keras.layers.MaxPooling2D(2,2),\n",
        "\n",
        "  tf.keras.layers.Dropout(0.5),\n",
        "  tf.keras.layers.Flatten(),\n",
        "  tf.keras.layers.Dense(512, activation='relu'),\n",
        "  tf.keras.layers.Dense(1, activation='sigmoid')\n",
        "])"
      ]
    },
    {
      "cell_type": "code",
      "execution_count": null,
      "metadata": {
        "colab": {
          "base_uri": "https://localhost:8080/"
        },
        "id": "CWMxIrCgfDcQ",
        "outputId": "6864641b-2db5-429f-8fcd-ee1958b84baa"
      },
      "outputs": [
        {
          "output_type": "stream",
          "name": "stdout",
          "text": [
            "Model: \"sequential\"\n",
            "_________________________________________________________________\n",
            " Layer (type)                Output Shape              Param #   \n",
            "=================================================================\n",
            " conv2d (Conv2D)             (None, 1170, 1170, 32)    896       \n",
            "                                                                 \n",
            " max_pooling2d (MaxPooling2D  (None, 585, 585, 32)     0         \n",
            " )                                                               \n",
            "                                                                 \n",
            " conv2d_1 (Conv2D)           (None, 583, 583, 64)      18496     \n",
            "                                                                 \n",
            " max_pooling2d_1 (MaxPooling  (None, 291, 291, 64)     0         \n",
            " 2D)                                                             \n",
            "                                                                 \n",
            " conv2d_2 (Conv2D)           (None, 289, 289, 128)     73856     \n",
            "                                                                 \n",
            " max_pooling2d_2 (MaxPooling  (None, 144, 144, 128)    0         \n",
            " 2D)                                                             \n",
            "                                                                 \n",
            " conv2d_3 (Conv2D)           (None, 142, 142, 128)     147584    \n",
            "                                                                 \n",
            " max_pooling2d_3 (MaxPooling  (None, 71, 71, 128)      0         \n",
            " 2D)                                                             \n",
            "                                                                 \n",
            " dropout (Dropout)           (None, 71, 71, 128)       0         \n",
            "                                                                 \n",
            " flatten (Flatten)           (None, 645248)            0         \n",
            "                                                                 \n",
            " dense (Dense)               (None, 512)               330367488 \n",
            "                                                                 \n",
            " dense_1 (Dense)             (None, 1)                 513       \n",
            "                                                                 \n",
            "=================================================================\n",
            "Total params: 330,608,833\n",
            "Trainable params: 330,608,833\n",
            "Non-trainable params: 0\n",
            "_________________________________________________________________\n"
          ]
        }
      ],
      "source": [
        "#model=load_model('cnn_Open20.hdf5')\n",
        "model.summary()"
      ]
    },
    {
      "cell_type": "code",
      "execution_count": null,
      "metadata": {
        "id": "wLEmaP9ofG8E"
      },
      "outputs": [],
      "source": [
        "#Compilación\n",
        "model.compile(loss='binary_crossentropy',\n",
        "              optimizer='adam',\n",
        "              metrics=['accuracy'])"
      ]
    },
    {
      "cell_type": "code",
      "execution_count": null,
      "metadata": {
        "id": "h3yrGjYBfJfG"
      },
      "outputs": [],
      "source": [
        "datagen = ImageDataGenerator(rescale=1. / 255)"
      ]
    },
    {
      "cell_type": "code",
      "execution_count": null,
      "metadata": {
        "colab": {
          "base_uri": "https://localhost:8080/"
        },
        "id": "boD2YvdefMNo",
        "outputId": "1af11f3e-1d28-410f-d912-12cbfd3b4e43"
      },
      "outputs": [
        {
          "output_type": "stream",
          "name": "stdout",
          "text": [
            "Found 10282 images belonging to 2 classes.\n"
          ]
        }
      ],
      "source": [
        "train_generator = datagen.flow_from_directory(\n",
        "    train_dir,\n",
        "    target_size=(img_width, img_height),\n",
        "    batch_size=batch_size,\n",
        "    class_mode='binary',\n",
        "    shuffle=False)"
      ]
    },
    {
      "cell_type": "code",
      "execution_count": null,
      "metadata": {
        "colab": {
          "base_uri": "https://localhost:8080/"
        },
        "id": "8MqbQRz_fPHu",
        "outputId": "17cd94e2-4dec-4940-ba25-11aa04c320cb"
      },
      "outputs": [
        {
          "output_type": "stream",
          "name": "stdout",
          "text": [
            "Found 5518 images belonging to 2 classes.\n"
          ]
        }
      ],
      "source": [
        "val_generator = datagen.flow_from_directory(\n",
        "    val_dir,\n",
        "    target_size=(img_width, img_height),\n",
        "    batch_size=batch_size,\n",
        "    class_mode='binary',\n",
        "    shuffle=False)"
      ]
    },
    {
      "cell_type": "code",
      "execution_count": null,
      "metadata": {
        "id": "JeDKHYPjfSTU"
      },
      "outputs": [],
      "source": [
        "#callbacks = TensorBoard(log_dir='/content/archivo')\n",
        "callbacks = [ModelCheckpoint('/content/drive/MyDrive/python/logs/cnn_Open{epoch:1d}.hdf5')]"
      ]
    },
    {
      "cell_type": "code",
      "execution_count": null,
      "metadata": {
        "colab": {
          "base_uri": "https://localhost:8080/"
        },
        "id": "MzBb3Iamv3ZA",
        "outputId": "92032dcb-ae3c-4e1c-a9c8-8dd12b7675f3"
      },
      "outputs": [
        {
          "output_type": "execute_result",
          "data": {
            "text/plain": [
              "75"
            ]
          },
          "metadata": {},
          "execution_count": 10
        }
      ],
      "source": [
        "import gc\n",
        "gc.collect()"
      ]
    },
    {
      "cell_type": "code",
      "execution_count": null,
      "metadata": {
        "id": "8VaV3kTCfUoh",
        "colab": {
          "base_uri": "https://localhost:8080/"
        },
        "outputId": "a6609d01-a037-494c-aa9f-6c9bb1ff256d"
      },
      "outputs": [
        {
          "output_type": "stream",
          "name": "stdout",
          "text": [
            "Epoch 1/60\n",
            "1468/1468 [==============================] - 9289s 6s/step - loss: 1.1686 - accuracy: 0.5034 - val_loss: 0.6957 - val_accuracy: 0.4094\n",
            "Epoch 2/60\n",
            "1468/1468 [==============================] - 807s 549ms/step - loss: 0.6931 - accuracy: 0.5130 - val_loss: 0.6968 - val_accuracy: 0.4094\n",
            "Epoch 3/60\n",
            "1468/1468 [==============================] - 991s 675ms/step - loss: 0.6930 - accuracy: 0.5137 - val_loss: 0.6972 - val_accuracy: 0.4094\n",
            "Epoch 4/60\n",
            "1468/1468 [==============================] - 807s 549ms/step - loss: 0.6930 - accuracy: 0.5130 - val_loss: 0.6987 - val_accuracy: 0.4094\n",
            "Epoch 5/60\n",
            "1468/1468 [==============================] - 809s 551ms/step - loss: 0.6930 - accuracy: 0.5136 - val_loss: 0.6991 - val_accuracy: 0.4094\n",
            "Epoch 6/60\n",
            "1468/1468 [==============================] - 803s 547ms/step - loss: 0.6930 - accuracy: 0.5130 - val_loss: 0.6985 - val_accuracy: 0.4094\n",
            "Epoch 7/60\n",
            "1468/1468 [==============================] - 809s 551ms/step - loss: 0.6930 - accuracy: 0.5130 - val_loss: 0.6992 - val_accuracy: 0.4094\n",
            "Epoch 8/60\n",
            "1468/1468 [==============================] - 816s 556ms/step - loss: 0.6930 - accuracy: 0.5130 - val_loss: 0.6991 - val_accuracy: 0.4094\n",
            "Epoch 9/60\n",
            "1468/1468 [==============================] - 814s 554ms/step - loss: 0.6930 - accuracy: 0.5137 - val_loss: 0.6991 - val_accuracy: 0.4094\n",
            "Epoch 10/60\n",
            "1468/1468 [==============================] - 824s 561ms/step - loss: 0.6930 - accuracy: 0.5130 - val_loss: 0.6996 - val_accuracy: 0.4094\n",
            "Epoch 11/60\n",
            "1468/1468 [==============================] - 831s 566ms/step - loss: 0.6930 - accuracy: 0.5137 - val_loss: 0.6993 - val_accuracy: 0.4094\n",
            "Epoch 12/60\n",
            "1294/1468 [=========================>....] - ETA: 8:49 - loss: 0.6931 - accuracy: 0.5124"
          ]
        }
      ],
      "source": [
        "model.fit(\n",
        "    train_generator,\n",
        "    epochs=epochs, batch_size=batch_size,\n",
        "    validation_data=val_generator,\n",
        "    steps_per_epoch=nb_train_samples // batch_size,\n",
        "    validation_steps=nb_validation_samples // batch_size,\n",
        "    callbacks=callbacks\n",
        ")"
      ]
    },
    {
      "cell_type": "code",
      "execution_count": null,
      "metadata": {
        "id": "6JZqCzIG_eYb"
      },
      "outputs": [],
      "source": [
        "model.save('/content/drive/MyDrive/python/logs/AnalizadorTraidingAccion.h5')"
      ]
    },
    {
      "cell_type": "code",
      "source": [
        "%load_ext tensorboard"
      ],
      "metadata": {
        "id": "s0Tcki7G0hpe"
      },
      "execution_count": null,
      "outputs": []
    },
    {
      "cell_type": "code",
      "source": [
        "%tensorboard --logdir log_dir"
      ],
      "metadata": {
        "id": "_Q-9RTnn0pDM"
      },
      "execution_count": null,
      "outputs": []
    }
  ],
  "metadata": {
    "accelerator": "GPU",
    "colab": {
      "collapsed_sections": [],
      "provenance": [],
      "mount_file_id": "1jTbIiha-hDge50_BnPlcXK5gCr3FTkpa",
      "authorship_tag": "ABX9TyNrSLMeD+FfCbBhJtuRfgwm",
      "include_colab_link": true
    },
    "gpuClass": "standard",
    "kernelspec": {
      "display_name": "Python 3",
      "name": "python3"
    },
    "language_info": {
      "name": "python"
    }
  },
  "nbformat": 4,
  "nbformat_minor": 0
}